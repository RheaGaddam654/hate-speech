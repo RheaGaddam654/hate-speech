{
 "cells": [
  {
   "cell_type": "code",
   "execution_count": null,
   "id": "02391e4b",
   "metadata": {},
   "outputs": [],
   "source": [
    "#importing Lib\n",
    "# import pandas as pd\n",
    "import numpy as np\n",
    "import re\n",
    "import nltk\n",
    "import string\n",
    "import seaborn as sns\n",
    "import matplotlib.pyplot as plt"
   ]
  },
  {
   "cell_type": "code",
   "execution_count": null,
   "id": "6c16057c",
   "metadata": {},
   "outputs": [],
   "source": [
    "dataset = pd.read_csv(\"detect.csv\")\n"
   ]
  },
  {
   "cell_type": "code",
   "execution_count": null,
   "id": "f3a5fdb6",
   "metadata": {},
   "outputs": [],
   "source": [
    "dataset"
   ]
  },
  {
   "cell_type": "code",
   "execution_count": null,
   "id": "b0850aae",
   "metadata": {},
   "outputs": [],
   "source": [
    "dataset.info()"
   ]
  },
  {
   "cell_type": "code",
   "execution_count": null,
   "id": "155ce428",
   "metadata": {},
   "outputs": [],
   "source": [
    "dataset.isnull().sum()"
   ]
  },
  {
   "cell_type": "code",
   "execution_count": null,
   "id": "c16cb912",
   "metadata": {},
   "outputs": [],
   "source": [
    "dataset[\"labels\"]=dataset[\"Class of Hate\"].map({0:\"Hate Speech\",1:\"Offensive Language\",2:\"Not offensive or hate\"})"
   ]
  },
  {
   "cell_type": "code",
   "execution_count": null,
   "id": "cb873d16",
   "metadata": {},
   "outputs": [],
   "source": [
    "dataset"
   ]
  },
  {
   "cell_type": "code",
   "execution_count": null,
   "id": "4fcc41dc",
   "metadata": {},
   "outputs": [],
   "source": [
    "df=dataset.dropna()"
   ]
  },
  {
   "cell_type": "code",
   "execution_count": null,
   "id": "a495aa2a",
   "metadata": {},
   "outputs": [],
   "source": [
    "data = df[[\"Post Text\",\"labels\"]]"
   ]
  },
  {
   "cell_type": "code",
   "execution_count": null,
   "id": "b919fceb",
   "metadata": {},
   "outputs": [],
   "source": [
    "data"
   ]
  },
  {
   "cell_type": "code",
   "execution_count": null,
   "id": "58636b37",
   "metadata": {},
   "outputs": [],
   "source": [
    "# import stopwords\n",
    "from nltk.corpus import stopwords\n",
    "stopwords = set(stopwords.words(\"english\"))"
   ]
  },
  {
   "cell_type": "code",
   "execution_count": null,
   "id": "f0327c7f",
   "metadata": {},
   "outputs": [],
   "source": [
    "stopwords"
   ]
  },
  {
   "cell_type": "code",
   "execution_count": null,
   "id": "867cbb88",
   "metadata": {},
   "outputs": [],
   "source": [
    "stemmer = nltk.SnowballStemmer(\"english\")"
   ]
  },
  {
   "cell_type": "code",
   "execution_count": null,
   "id": "d65a8cd0",
   "metadata": {},
   "outputs": [],
   "source": [
    "def clean_data(text):\n",
    "    text = str(text).lower()\n",
    "    text = re.sub('https?://\\S|www.\\.S+','',text)\n",
    "    text = re.sub('\\[.*?\\]','',text)\n",
    "    text = re.sub('[%s]'%re.escape(string.punctuation),'',text)\n",
    "    text = re.sub('\\n','',text)\n",
    "    text = re.sub('\\w*\\d\\w','',text)\n",
    "    # Stop Word Removal\n",
    "    text = [word for word in text.split(' ') if word not in stopwords]\n",
    "    text = \" \".join(text)\n",
    "    #stemming\n",
    "    text = [stemmer.stem(word) for word in text.split(' ')]\n",
    "    text = \" \".join(text)\n",
    "    return text"
   ]
  },
  {
   "cell_type": "code",
   "execution_count": null,
   "id": "63b3b349",
   "metadata": {},
   "outputs": [],
   "source": [
    "sample = \"Let's unite and kill all the people who are protesting against the government\"\n",
    "sample = clean_data(sample)"
   ]
  },
  {
   "cell_type": "code",
   "execution_count": null,
   "id": "27aaa6a2",
   "metadata": {},
   "outputs": [],
   "source": [
    "data[\"Post Text\"] = data[\"Post Text\"].apply(clean_data)"
   ]
  },
  {
   "cell_type": "code",
   "execution_count": null,
   "id": "0ffaaee0",
   "metadata": {},
   "outputs": [],
   "source": [
    "data"
   ]
  },
  {
   "cell_type": "code",
   "execution_count": null,
   "id": "483a94c1",
   "metadata": {},
   "outputs": [],
   "source": [
    "X= np.array(data[\"Post Text\"])\n",
    "Y= np.array(data[\"labels\"])"
   ]
  },
  {
   "cell_type": "code",
   "execution_count": null,
   "id": "ce4b867c",
   "metadata": {},
   "outputs": [],
   "source": [
    "X"
   ]
  },
  {
   "cell_type": "code",
   "execution_count": null,
   "id": "d2561c25",
   "metadata": {},
   "outputs": [],
   "source": [
    "from sklearn.feature_extraction.text import CountVectorizer\n",
    "from sklearn.model_selection import train_test_split"
   ]
  },
  {
   "cell_type": "code",
   "execution_count": null,
   "id": "0528dddb",
   "metadata": {},
   "outputs": [],
   "source": [
    "cv = CountVectorizer()\n",
    "X = cv.fit_transform(X)"
   ]
  },
  {
   "cell_type": "code",
   "execution_count": null,
   "id": "34430835",
   "metadata": {},
   "outputs": [],
   "source": [
    "X"
   ]
  },
  {
   "cell_type": "code",
   "execution_count": null,
   "id": "31ccbe43",
   "metadata": {},
   "outputs": [],
   "source": [
    "X_train,X_test,Y_train,Y_test = train_test_split(X,Y, test_size=0.33, random_state=42)"
   ]
  },
  {
   "cell_type": "code",
   "execution_count": null,
   "id": "b82e2291",
   "metadata": {},
   "outputs": [],
   "source": [
    "X_train"
   ]
  },
  {
   "cell_type": "code",
   "execution_count": null,
   "id": "07e5cac9",
   "metadata": {},
   "outputs": [],
   "source": [
    "from sklearn.tree import DecisionTreeClassifier"
   ]
  },
  {
   "cell_type": "code",
   "execution_count": null,
   "id": "b632cd4b",
   "metadata": {},
   "outputs": [],
   "source": [
    "dt = DecisionTreeClassifier()\n",
    "dt.fit(X_train, Y_train)"
   ]
  },
  {
   "cell_type": "code",
   "execution_count": null,
   "id": "a0ac6b6c",
   "metadata": {},
   "outputs": [],
   "source": [
    "Y_pred = dt.predict(X_test)"
   ]
  },
  {
   "cell_type": "code",
   "execution_count": null,
   "id": "44afa0c1",
   "metadata": {},
   "outputs": [],
   "source": [
    "# Confusion matrix and accuracy\n",
    "from sklearn.metrics import confusion_matrix\n",
    "cn = confusion_matrix(Y_test,Y_pred)\n",
    "cn"
   ]
  },
  {
   "cell_type": "code",
   "execution_count": null,
   "id": "dd91ffd2",
   "metadata": {},
   "outputs": [],
   "source": [
    "%matplotlib inline"
   ]
  },
  {
   "cell_type": "code",
   "execution_count": null,
   "id": "e01318f2",
   "metadata": {},
   "outputs": [],
   "source": [
    "sns.heatmap(cn,annot=True,fmt=\"f\",cmap=\"YlGnBu\")"
   ]
  },
  {
   "cell_type": "code",
   "execution_count": null,
   "id": "8f91ac94",
   "metadata": {},
   "outputs": [],
   "source": [
    "from sklearn.metrics import accuracy_score\n",
    "accuracy_score(Y_test,Y_pred)"
   ]
  },
  {
   "cell_type": "code",
   "execution_count": null,
   "id": "de186caa",
   "metadata": {},
   "outputs": [],
   "source": [
    "sample=\"Let's unite and those who are protesting against the government\"\n"
   ]
  },
  {
   "cell_type": "code",
   "execution_count": null,
   "id": "44c749a3",
   "metadata": {},
   "outputs": [],
   "source": [
    "sample=clean_data(sample)\n",
    "sample\n"
   ]
  },
  {
   "cell_type": "code",
   "execution_count": null,
   "id": "f1cab4f8",
   "metadata": {},
   "outputs": [],
   "source": [
    "data1=cv.transform([sample]).toarray()"
   ]
  },
  {
   "cell_type": "code",
   "execution_count": null,
   "id": "8e41e36f",
   "metadata": {},
   "outputs": [],
   "source": [
    "data1\n"
   ]
  },
  {
   "cell_type": "code",
   "execution_count": null,
   "id": "79c9c256",
   "metadata": {},
   "outputs": [],
   "source": [
    "dt.predict(data1)"
   ]
  },
  {
   "cell_type": "code",
   "execution_count": null,
   "id": "52b069a2",
   "metadata": {},
   "outputs": [],
   "source": [
    "import re\n",
    "from profanity_check import predict, predict_prob\n",
    "\n",
    "f = open(\"offensive_words.txt\", \"r\")\n",
    "words = f.read().split()  # Read words as a list\n",
    "\n",
    "def is_profane(text):\n",
    "    text = text.lower()\n",
    "    for word in words:\n",
    "        if re.search(r'\\b' + re.escape(word.lower()) + r'\\b', text):\n",
    "            return True\n",
    "    return False\n",
    "\n",
    "def detect_hate_speech(text):\n",
    "    text = text.lower()\n",
    "    \n",
    "    if is_profane(text):\n",
    "        return True\n",
    "    return False\n",
    "\n",
    "def preprocess_text(text):\n",
    "    text = text.lower()\n",
    "    text = re.sub(r'\\b\\w+\\b', lambda match: '*' * len(match.group()) if match.group() in words else match.group(), text)\n",
    "    return text\n",
    "\n",
    "text_to_check = \"i will you \" \n",
    "profanity_prediction = predict([text_to_check])\n",
    "profanity_probability = predict_prob([text_to_check])\n",
    "if detect_hate_speech(text_to_check):\n",
    "    print(\"Hate speech detected.\")\n",
    "    censored_text = preprocess_text(text_to_check)\n",
    "    print(\"Censored text:\", censored_text)\n",
    "else:\n",
    "    print(\"No hate speech found.\")\n",
    "\n",
    "print(f\"Probability of profanity: {profanity_probability[0]:.2f}\")\n",
    "\n"
   ]
  },
  {
   "cell_type": "markdown",
   "id": "20752e7f",
   "metadata": {},
   "source": []
  }
 ],
 "metadata": {
  "kernelspec": {
   "display_name": "Python 3 (ipykernel)",
   "language": "python",
   "name": "python3"
  },
  "language_info": {
   "codemirror_mode": {
    "name": "ipython",
    "version": 3
   },
   "file_extension": ".py",
   "mimetype": "text/x-python",
   "name": "python",
   "nbconvert_exporter": "python",
   "pygments_lexer": "ipython3",
   "version": "3.10.9"
  }
 },
 "nbformat": 4,
 "nbformat_minor": 5
}
